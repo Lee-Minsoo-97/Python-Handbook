{
  "cells": [
    {
      "cell_type": "markdown",
      "metadata": {
        "id": "view-in-github",
        "colab_type": "text"
      },
      "source": [
        "<a href=\"https://colab.research.google.com/github/Lee-Minsoo-97/Python-Handbook/blob/main/Pandas_Overview.ipynb\" target=\"_parent\"><img src=\"https://colab.research.google.com/assets/colab-badge.svg\" alt=\"Open In Colab\"/></a>"
      ]
    },
    {
      "cell_type": "markdown",
      "id": "4e2549bb",
      "metadata": {
        "id": "4e2549bb"
      },
      "source": [
        "## What is Pandas?\n",
        "\n",
        "An open-source Python library developed by Wes McKinney in 2008 <br>\n",
        "The name is derived from: **PAN**el **DA**ta <br>\n",
        "Pandas is built **ON TOP** of another powerful Python library called **NumPY** that was developed around 2005<br>\n",
        "If you want to be an analytics professional - this is the Python library to master!!!\n",
        "<br>\n",
        "<br>\n",
        "### How do I start working with Pandas?\n",
        "\n",
        "1. If you installed Anaconda to your computer - you already have Pandas!!!\n",
        "2. If you work on Google Colab - you already have Pandas!!!\n",
        "<br>\n",
        "\"Already have\" = it's installed on your computer.<br>\n",
        "\n",
        "> But to work with it in your current notebook, you must tell Python that you want to work with it.  We do this using **IMPORT** statements.\n",
        "\n",
        "> How do I learn more about Pandas? <br>\n",
        "Go to:\n",
        "https://pandas.pydata.org/docs/index.html"
      ]
    },
    {
      "cell_type": "markdown",
      "id": "53b02581",
      "metadata": {
        "id": "53b02581"
      },
      "source": [
        "# read_csv()"
      ]
    },
    {
      "cell_type": "code",
      "execution_count": null,
      "id": "6d8f3824",
      "metadata": {
        "id": "6d8f3824"
      },
      "outputs": [],
      "source": [
        "import pandas as pd\n",
        "pd.set_option('display.max_columns', None)"
      ]
    },
    {
      "cell_type": "code",
      "execution_count": null,
      "id": "728b088c",
      "metadata": {
        "id": "728b088c",
        "outputId": "54661f79-4139-4ec7-99a3-9bb49e821692"
      },
      "outputs": [
        {
          "name": "stdout",
          "output_type": "stream",
          "text": [
            "\u001b[34mCanvas\u001b[m\u001b[m/                customer_churn.csv     nba.csv\r\n",
            "Pandas_Overview.ipynb  data.csv               pivot_data.csv\r\n",
            "Python Modules.ipynb   data.xlsx\r\n",
            "Week2.ipynb            data2.csv\r\n"
          ]
        }
      ],
      "source": [
        "ls"
      ]
    },
    {
      "cell_type": "code",
      "execution_count": null,
      "id": "afc3d908",
      "metadata": {
        "id": "afc3d908"
      },
      "outputs": [],
      "source": [
        "df = pd.read_csv('data2.csv')"
      ]
    },
    {
      "cell_type": "markdown",
      "id": "6bc75adf",
      "metadata": {
        "id": "6bc75adf"
      },
      "source": [
        "> when we run the code above - we don't get any errors, but the resulting dataframe is not what we want.  We don't have variable names and our data doesn't show up until row 4 of the dataframe.  <br><br>\n",
        "> We fix this by doing noting that our data file contains some descriptive documentation at the top.  The actualy data doesn't start until row 4.  To accommodate this using read_csv() we just add the \"skiprows=\" argument as seen below."
      ]
    },
    {
      "cell_type": "code",
      "execution_count": null,
      "id": "89e010e8",
      "metadata": {
        "id": "89e010e8"
      },
      "outputs": [],
      "source": [
        "df = pd.read_csv('data2.csv',skiprows=3)"
      ]
    },
    {
      "cell_type": "markdown",
      "id": "96b379c5",
      "metadata": {
        "id": "96b379c5"
      },
      "source": [
        "> Now the data should look right - with variable names at the top and no missing rows of data at the top."
      ]
    },
    {
      "cell_type": "code",
      "execution_count": null,
      "id": "a62eeb84",
      "metadata": {
        "scrolled": false,
        "id": "a62eeb84"
      },
      "outputs": [],
      "source": [
        "df_xl = pd.read_excel('data.xls',sheet_name='OtherData')"
      ]
    },
    {
      "cell_type": "code",
      "execution_count": null,
      "id": "6cddc569",
      "metadata": {
        "id": "6cddc569",
        "outputId": "90c60676-e51b-45e3-a5bc-ad4331da1e60"
      },
      "outputs": [
        {
          "data": {
            "text/plain": [
              "(19, 9)"
            ]
          },
          "execution_count": 17,
          "metadata": {},
          "output_type": "execute_result"
        }
      ],
      "source": [
        "df_xl.shape"
      ]
    },
    {
      "cell_type": "markdown",
      "id": "123a0e19",
      "metadata": {
        "id": "123a0e19"
      },
      "source": [
        "## How to read a tabular data file into pandas?\n",
        "\n",
        "Some free data sources:<br>\n",
        "http://bit.ly/chiporders <br>\n",
        "http://bit.ly/movieusers"
      ]
    },
    {
      "cell_type": "code",
      "execution_count": null,
      "id": "ce0d2668",
      "metadata": {
        "id": "ce0d2668"
      },
      "outputs": [],
      "source": [
        "order_df = pd.read_table('http://bit.ly/chiporders')"
      ]
    },
    {
      "cell_type": "code",
      "execution_count": null,
      "id": "202ffc59",
      "metadata": {
        "id": "202ffc59",
        "outputId": "64540cb9-fa66-44f8-b29b-035487b4ecc3"
      },
      "outputs": [
        {
          "data": {
            "text/html": [
              "<div>\n",
              "<style scoped>\n",
              "    .dataframe tbody tr th:only-of-type {\n",
              "        vertical-align: middle;\n",
              "    }\n",
              "\n",
              "    .dataframe tbody tr th {\n",
              "        vertical-align: top;\n",
              "    }\n",
              "\n",
              "    .dataframe thead th {\n",
              "        text-align: right;\n",
              "    }\n",
              "</style>\n",
              "<table border=\"1\" class=\"dataframe\">\n",
              "  <thead>\n",
              "    <tr style=\"text-align: right;\">\n",
              "      <th></th>\n",
              "      <th>order_id</th>\n",
              "      <th>quantity</th>\n",
              "      <th>item_name</th>\n",
              "      <th>choice_description</th>\n",
              "      <th>item_price</th>\n",
              "    </tr>\n",
              "  </thead>\n",
              "  <tbody>\n",
              "    <tr>\n",
              "      <th>4617</th>\n",
              "      <td>1833</td>\n",
              "      <td>1</td>\n",
              "      <td>Steak Burrito</td>\n",
              "      <td>[Fresh Tomato Salsa, [Rice, Black Beans, Sour ...</td>\n",
              "      <td>$11.75</td>\n",
              "    </tr>\n",
              "    <tr>\n",
              "      <th>4618</th>\n",
              "      <td>1833</td>\n",
              "      <td>1</td>\n",
              "      <td>Steak Burrito</td>\n",
              "      <td>[Fresh Tomato Salsa, [Rice, Sour Cream, Cheese...</td>\n",
              "      <td>$11.75</td>\n",
              "    </tr>\n",
              "    <tr>\n",
              "      <th>4619</th>\n",
              "      <td>1834</td>\n",
              "      <td>1</td>\n",
              "      <td>Chicken Salad Bowl</td>\n",
              "      <td>[Fresh Tomato Salsa, [Fajita Vegetables, Pinto...</td>\n",
              "      <td>$11.25</td>\n",
              "    </tr>\n",
              "    <tr>\n",
              "      <th>4620</th>\n",
              "      <td>1834</td>\n",
              "      <td>1</td>\n",
              "      <td>Chicken Salad Bowl</td>\n",
              "      <td>[Fresh Tomato Salsa, [Fajita Vegetables, Lettu...</td>\n",
              "      <td>$8.75</td>\n",
              "    </tr>\n",
              "    <tr>\n",
              "      <th>4621</th>\n",
              "      <td>1834</td>\n",
              "      <td>1</td>\n",
              "      <td>Chicken Salad Bowl</td>\n",
              "      <td>[Fresh Tomato Salsa, [Fajita Vegetables, Pinto...</td>\n",
              "      <td>$8.75</td>\n",
              "    </tr>\n",
              "  </tbody>\n",
              "</table>\n",
              "</div>"
            ],
            "text/plain": [
              "      order_id  quantity           item_name  \\\n",
              "4617      1833         1       Steak Burrito   \n",
              "4618      1833         1       Steak Burrito   \n",
              "4619      1834         1  Chicken Salad Bowl   \n",
              "4620      1834         1  Chicken Salad Bowl   \n",
              "4621      1834         1  Chicken Salad Bowl   \n",
              "\n",
              "                                     choice_description item_price  \n",
              "4617  [Fresh Tomato Salsa, [Rice, Black Beans, Sour ...    $11.75   \n",
              "4618  [Fresh Tomato Salsa, [Rice, Sour Cream, Cheese...    $11.75   \n",
              "4619  [Fresh Tomato Salsa, [Fajita Vegetables, Pinto...    $11.25   \n",
              "4620  [Fresh Tomato Salsa, [Fajita Vegetables, Lettu...     $8.75   \n",
              "4621  [Fresh Tomato Salsa, [Fajita Vegetables, Pinto...     $8.75   "
            ]
          },
          "execution_count": 23,
          "metadata": {},
          "output_type": "execute_result"
        }
      ],
      "source": [
        "order_df.tail()"
      ]
    },
    {
      "cell_type": "code",
      "execution_count": null,
      "id": "3c05d032",
      "metadata": {
        "id": "3c05d032"
      },
      "outputs": [],
      "source": [
        "user_cols = ['user_id','age','gender','job','zipcode']\n",
        "\n",
        "user_df = pd.read_table('http://bit.ly/movieusers',\n",
        "              sep='|',\n",
        "              header=None,\n",
        "              names=user_cols\n",
        "             )"
      ]
    },
    {
      "cell_type": "code",
      "execution_count": null,
      "id": "6071da81",
      "metadata": {
        "id": "6071da81",
        "outputId": "906cc2e9-47ba-4212-91c7-bc0b09b9992f"
      },
      "outputs": [
        {
          "data": {
            "text/html": [
              "<div>\n",
              "<style scoped>\n",
              "    .dataframe tbody tr th:only-of-type {\n",
              "        vertical-align: middle;\n",
              "    }\n",
              "\n",
              "    .dataframe tbody tr th {\n",
              "        vertical-align: top;\n",
              "    }\n",
              "\n",
              "    .dataframe thead th {\n",
              "        text-align: right;\n",
              "    }\n",
              "</style>\n",
              "<table border=\"1\" class=\"dataframe\">\n",
              "  <thead>\n",
              "    <tr style=\"text-align: right;\">\n",
              "      <th></th>\n",
              "      <th>user_id</th>\n",
              "      <th>age</th>\n",
              "      <th>gender</th>\n",
              "      <th>job</th>\n",
              "      <th>zipcode</th>\n",
              "    </tr>\n",
              "  </thead>\n",
              "  <tbody>\n",
              "    <tr>\n",
              "      <th>0</th>\n",
              "      <td>1</td>\n",
              "      <td>24</td>\n",
              "      <td>M</td>\n",
              "      <td>technician</td>\n",
              "      <td>85711</td>\n",
              "    </tr>\n",
              "    <tr>\n",
              "      <th>1</th>\n",
              "      <td>2</td>\n",
              "      <td>53</td>\n",
              "      <td>F</td>\n",
              "      <td>other</td>\n",
              "      <td>94043</td>\n",
              "    </tr>\n",
              "    <tr>\n",
              "      <th>2</th>\n",
              "      <td>3</td>\n",
              "      <td>23</td>\n",
              "      <td>M</td>\n",
              "      <td>writer</td>\n",
              "      <td>32067</td>\n",
              "    </tr>\n",
              "    <tr>\n",
              "      <th>3</th>\n",
              "      <td>4</td>\n",
              "      <td>24</td>\n",
              "      <td>M</td>\n",
              "      <td>technician</td>\n",
              "      <td>43537</td>\n",
              "    </tr>\n",
              "    <tr>\n",
              "      <th>4</th>\n",
              "      <td>5</td>\n",
              "      <td>33</td>\n",
              "      <td>F</td>\n",
              "      <td>other</td>\n",
              "      <td>15213</td>\n",
              "    </tr>\n",
              "  </tbody>\n",
              "</table>\n",
              "</div>"
            ],
            "text/plain": [
              "   user_id  age gender         job zipcode\n",
              "0        1   24      M  technician   85711\n",
              "1        2   53      F       other   94043\n",
              "2        3   23      M      writer   32067\n",
              "3        4   24      M  technician   43537\n",
              "4        5   33      F       other   15213"
            ]
          },
          "execution_count": 29,
          "metadata": {},
          "output_type": "execute_result"
        }
      ],
      "source": [
        "user_df.head()"
      ]
    },
    {
      "cell_type": "code",
      "execution_count": null,
      "id": "82833130",
      "metadata": {
        "id": "82833130"
      },
      "outputs": [],
      "source": []
    }
  ],
  "metadata": {
    "kernelspec": {
      "display_name": "Python 3 (ipykernel)",
      "language": "python",
      "name": "python3"
    },
    "language_info": {
      "codemirror_mode": {
        "name": "ipython",
        "version": 3
      },
      "file_extension": ".py",
      "mimetype": "text/x-python",
      "name": "python",
      "nbconvert_exporter": "python",
      "pygments_lexer": "ipython3",
      "version": "3.11.4"
    },
    "colab": {
      "provenance": [],
      "include_colab_link": true
    }
  },
  "nbformat": 4,
  "nbformat_minor": 5
}